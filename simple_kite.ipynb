{
  "nbformat": 4,
  "nbformat_minor": 0,
  "metadata": {
    "colab": {
      "name": "simple_kite.ipynb",
      "provenance": [],
      "authorship_tag": "ABX9TyPgIv5LOLJAY6TWZTgPaLKW",
      "include_colab_link": true
    },
    "kernelspec": {
      "name": "python3",
      "display_name": "Python 3"
    }
  },
  "cells": [
    {
      "cell_type": "markdown",
      "metadata": {
        "id": "view-in-github",
        "colab_type": "text"
      },
      "source": [
        "<a href=\"https://colab.research.google.com/github/IzzyBrand/kiteTrajOpt/blob/master/simple_kite.ipynb\" target=\"_parent\"><img src=\"https://colab.research.google.com/assets/colab-badge.svg\" alt=\"Open In Colab\"/></a>"
      ]
    },
    {
      "cell_type": "markdown",
      "metadata": {
        "id": "AwdukN8chTef",
        "colab_type": "text"
      },
      "source": [
        "## Notebook Setup \n",
        "The following cell will install Drake, checkout the underactuated repository, and set up the path (only if necessary).\n",
        "- On Google's Colaboratory, this **will take approximately two minutes** on the first time it runs (to provision the machine), but should only need to reinstall once every 12 hours.  Colab will ask you to \"Reset all runtimes\"; say no to save yourself the reinstall.\n",
        "- On Binder, the machines should already be provisioned by the time you can run this; it should return (almost) instantly.\n",
        "\n",
        "More details are available [here](http://underactuated.mit.edu/drake.html)."
      ]
    },
    {
      "cell_type": "code",
      "metadata": {
        "id": "0k-FTiSKhE2q",
        "colab_type": "code",
        "colab": {
          "base_uri": "https://localhost:8080/",
          "height": 130
        },
        "outputId": "981a91b4-bb2d-456c-f4bf-1f5e1e1b47fd"
      },
      "source": [
        "try:\n",
        "    import pydrake\n",
        "    import underactuated\n",
        "except ImportError:\n",
        "    !curl -s https://raw.githubusercontent.com/RussTedrake/underactuated/master/scripts/setup/jupyter_setup.py > jupyter_setup.py\n",
        "    from jupyter_setup import setup_underactuated\n",
        "    setup_underactuated()\n",
        "\n",
        "# Setup matplotlib backend (to notebook, if possible, or inline).  \n",
        "from underactuated.jupyter import setup_matplotlib_backend\n",
        "plt_is_interactive = setup_matplotlib_backend()"
      ],
      "execution_count": 0,
      "outputs": [
        {
          "output_type": "error",
          "ename": "SyntaxError",
          "evalue": "ignored",
          "traceback": [
            "\u001b[0;36m  File \u001b[0;32m\"<ipython-input-1-f3b708ff5528>\"\u001b[0;36m, line \u001b[0;32m1\u001b[0m\n\u001b[0;31m    The following cell will install Drake, checkout the underactuated repository, and set up the path (only if necessary).\u001b[0m\n\u001b[0m                ^\u001b[0m\n\u001b[0;31mSyntaxError\u001b[0m\u001b[0;31m:\u001b[0m invalid syntax\n"
          ]
        }
      ]
    },
    {
      "cell_type": "code",
      "metadata": {
        "id": "YuyNV4URhK4c",
        "colab_type": "code",
        "colab": {}
      },
      "source": [
        "# python libraries\n",
        "import numpy as np\n",
        "import matplotlib.pyplot as plt\n",
        "import matplotlib as mpl\n",
        "\n",
        "# pydrake imports\n",
        "from pydrake.all import (Variable, SymbolicVectorSystem, DiagramBuilder,\n",
        "                         LogOutput, Simulator, ConstantVectorSource,\n",
        "                         MathematicalProgram, Solve, SnoptSolver, PiecewisePolynomial)\n",
        "import pydrake.symbolic as sym"
      ],
      "execution_count": 0,
      "outputs": []
    },
    {
      "cell_type": "code",
      "metadata": {
        "id": "NZ1EZ3N0hUM8",
        "colab_type": "code",
        "colab": {}
      },
      "source": [
        ""
      ],
      "execution_count": 0,
      "outputs": []
    }
  ]
}