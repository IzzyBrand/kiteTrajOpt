{
  "nbformat": 4,
  "nbformat_minor": 0,
  "metadata": {
    "colab": {
      "name": "simple_kite.ipynb",
      "provenance": [],
      "authorship_tag": "ABX9TyO1jF3cQ0uHdsXaA+HOLAEF",
      "include_colab_link": true
    },
    "kernelspec": {
      "name": "python3",
      "display_name": "Python 3"
    }
  },
  "cells": [
    {
      "cell_type": "markdown",
      "metadata": {
        "id": "view-in-github",
        "colab_type": "text"
      },
      "source": [
        "<a href=\"https://colab.research.google.com/github/IzzyBrand/kiteTrajOpt/blob/master/simple_kite.ipynb\" target=\"_parent\"><img src=\"https://colab.research.google.com/assets/colab-badge.svg\" alt=\"Open In Colab\"/></a>"
      ]
    },
    {
      "cell_type": "markdown",
      "metadata": {
        "id": "AwdukN8chTef",
        "colab_type": "text"
      },
      "source": [
        "## Notebook Setup \n",
        "The following cell will install Drake, checkout the underactuated repository, and set up the path (only if necessary).\n",
        "- On Google's Colaboratory, this **will take approximately two minutes** on the first time it runs (to provision the machine), but should only need to reinstall once every 12 hours.  Colab will ask you to \"Reset all runtimes\"; say no to save yourself the reinstall.\n",
        "- On Binder, the machines should already be provisioned by the time you can run this; it should return (almost) instantly.\n",
        "\n",
        "More details are available [here](http://underactuated.mit.edu/drake.html)."
      ]
    },
    {
      "cell_type": "code",
      "metadata": {
        "id": "0k-FTiSKhE2q",
        "colab_type": "code",
        "colab": {}
      },
      "source": [
        "try:\n",
        "    import pydrake\n",
        "    import underactuated\n",
        "except ImportError:\n",
        "    !curl -s https://raw.githubusercontent.com/RussTedrake/underactuated/master/scripts/setup/jupyter_setup.py > jupyter_setup.py\n",
        "    from jupyter_setup import setup_underactuated\n",
        "    setup_underactuated()\n",
        "\n",
        "# Setup matplotlib backend (to notebook, if possible, or inline).  \n",
        "from underactuated.jupyter import setup_matplotlib_backend\n",
        "plt_is_interactive = setup_matplotlib_backend()"
      ],
      "execution_count": 0,
      "outputs": []
    },
    {
      "cell_type": "code",
      "metadata": {
        "id": "YuyNV4URhK4c",
        "colab_type": "code",
        "colab": {}
      },
      "source": [
        "# python libraries\n",
        "import numpy as np\n",
        "import matplotlib.pyplot as plt\n",
        "import matplotlib as mpl\n",
        "\n",
        "# pydrake imports\n",
        "from pydrake.all import (Variable, SymbolicVectorSystem, DiagramBuilder,\n",
        "                         LogOutput, Simulator, ConstantVectorSource,\n",
        "                         MathematicalProgram, Solve, SnoptSolver, PiecewisePolynomial)\n",
        "import pydrake.symbolic as sym\n",
        "from pydrake.common.containers import namedview\n",
        "from pydrake.systems.framework import (BasicVector, LeafSystem, PublishEvent,\n",
        "                                       PortDataType, UnrestrictedUpdateEvent,\n",
        "                                       WitnessFunctionDirection)"
      ],
      "execution_count": 0,
      "outputs": []
    },
    {
      "cell_type": "code",
      "metadata": {
        "id": "hANSq1XkNLww",
        "colab_type": "code",
        "colab": {}
      },
      "source": [
        "KiteState = namedview('KiteState', ['theta', 'phi', 'thetadot', 'phidot'])\n",
        "\n",
        "class DrakeKite(SymbolicVectorSystem):\n",
        "    def __init__(self):\n",
        "        LeafSystem.__init__(self)\n",
        "        self.r = 100.  # length of the cable in meters\n",
        "        self.mass = 1  # kg\n",
        "        self.g = 9.81  # m/s^2\n",
        "\n",
        "    def F_theta_aer(x, u):\n",
        "        return 0\n",
        "\n",
        "    def DoCalcTimeDerivatives(self, context, derivatives):\n",
        "        s = KiteState(context.get_continuous_state_vector().CopyToVector())\n",
        "        theta, phi, thetadot, phidot = s\n"
      ],
      "execution_count": 0,
      "outputs": []
    },
    {
      "cell_type": "code",
      "metadata": {
        "id": "pVqD4fPbTB7A",
        "colab_type": "code",
        "colab": {}
      },
      "source": [
        "class Kite:\n",
        "    def __init__(self):\n",
        "        self.r = 50.    # length of the cable in meters\n",
        "        self.m = 1      # kg\n",
        "        self.g = 9.81   # m/s^2\n",
        "        self.rho = 1.2  # air density\n",
        "        self.A = 0.5    # kite surface area (m^2)\n",
        "        self.C_l = 1.5  # coeff of lift\n",
        "        self.C_d = 0.29 # coeff of drag\n",
        "\n",
        "    def p(self, x):\n",
        "        \"\"\" get the kite position in global frame\n",
        "        \"\"\"\n",
        "        theta, phi, _, _ = x\n",
        "\n",
        "        s_t = np.sin(theta)\n",
        "        c_t = np.cos(theta)\n",
        "        s_p = np.sin(phi)\n",
        "        c_p = np.cos(phi)\n",
        "\n",
        "        x = self.r*s_t*c_p\n",
        "        y = self.r*s_t*s_p\n",
        "        z = self.r*c_t\n",
        "        return np.array([x,y,z])\n",
        "\n",
        "    def pdot(self, x):\n",
        "        \"\"\" get the kite velocity in global frame\n",
        "        \"\"\"\n",
        "        theta, phi, thetadot, phidot = x\n",
        "\n",
        "        s_t = np.sin(theta)\n",
        "        c_t = np.cos(theta)\n",
        "        s_p = np.sin(phi)\n",
        "        c_p = np.cos(phi)\n",
        "\n",
        "        xdot = self.r*(c_t*c_p*thetadot - s_t*s_p*phidot)\n",
        "        ydot = self.r*(c_t*s_p*thetadot + s_t*c_p*phidot)\n",
        "        zdot = self.r*(-s_t*thetadot)\n",
        "\n",
        "        return np.array([xdot, ydot, zdot])\n",
        "\n",
        "    def e_l(self, x, u, w):\n",
        "        \"\"\" the unit vector along the kite longitudinal axis\n",
        "        \"\"\"\n",
        "        w_e =  w - self.pdot(x)\n",
        "        e_l = w_e/np.linalg.norm(w_e)\n",
        "        return e_l\n",
        "\n",
        "    def e_t(self, x, u, w):\n",
        "        # calculate the kite airspeed vector\n",
        "        w_e =  w - self.pdot(x)\n",
        "\n",
        "        # get the basis of the kite string\n",
        "        e_theta, e_phi, e_r = self.get_string_basis(x)\n",
        "\n",
        "        # project the wind into the plane of the kite\n",
        "        w_p_e = w_e - e_r * np.dot(e_r, w_e)\n",
        "        w_p_e_norm = np.linalg.norm(w_p_e)\n",
        "        e_w = w_p_e/w_p_e_norm\n",
        "\n",
        "        # get a vector perpendicular to the wind (sorta)\n",
        "        # in the plane of the kite\n",
        "        e_o = np.cross(e_r, e_w)\n",
        "\n",
        "        # get the angle of the kite (defined by airspeed)????\n",
        "        nu = np.arcsin(np.dot(w_e, e_r)/w_p_e_norm*np.tan(u))\n",
        "\n",
        "        # the basis in the plane of the kite pointing sideways (transverse)\n",
        "        # accounting for kite roll\n",
        "        e_t = e_w*(-np.cos(u)*np.sin(nu)) +\\\n",
        "            e_o*(np.cos(u)*np.cos(nu)) +\\\n",
        "            e_r*np.sin(u)\n",
        "\n",
        "        return e_t\n",
        "\n",
        "    def get_string_basis(self, x):\n",
        "        \"\"\" get a coordinate frame rotated by the kite's position\n",
        "        \"\"\"\n",
        "        theta, phi, _, _ = x\n",
        "        s_t = np.sin(theta)\n",
        "        c_t = np.cos(theta)\n",
        "        s_p = np.sin(phi)\n",
        "        c_p = np.cos(phi)\n",
        "\n",
        "        e_theta = np.array([c_t*c_p, c_t*s_p, -s_t])\n",
        "        e_phi = np.array([-s_p, c_p, 0])\n",
        "        e_r = np.array([s_t*c_p, s_t*s_p, c_t])\n",
        "    \n",
        "        return np.array([e_theta, e_phi, e_r])\n",
        "\n",
        "    def F_theta_aer(self, x, u, w):\n",
        "        \"\"\" the total aerodynamic force on azimuth\n",
        "        \"\"\"\n",
        "        F_l = self.F_l(x, u, w)\n",
        "        F_d = self.F_d(x, u, w)\n",
        "\n",
        "        # get the basis of the kite string\n",
        "        e_theta, e_phi, e_r = self.get_string_basis(x)\n",
        "\n",
        "        e_l = self.e_l(x, u, w)\n",
        "        e_t = self.e_t(x, u, w)\n",
        "\n",
        "        F_theta_aer = F_l * (np.cross(e_l, e_t).T @ e_theta) +\\\n",
        "            F_d * (e_l.T @ e_theta)\n",
        "        return F_theta_aer\n",
        "    \n",
        "    def F_phi_aer(self, x, u, w):\n",
        "        \"\"\" the total aerodynamic force on elevation\n",
        "        \"\"\"\n",
        "        F_l = self.F_l(x, u, w)\n",
        "        F_d = self.F_d(x, u, w)\n",
        "\n",
        "        # get the basis of the kite string\n",
        "        e_theta, e_phi, e_r = self.get_string_basis(x)\n",
        "\n",
        "        e_l = self.e_l(x, u, w)\n",
        "        e_t = self.e_t(x, u, w)\n",
        "\n",
        "        F_phi_aer = F_l * (np.cross(e_l, e_t).T @ e_phi) + F_d*(e_l.T @ e_phi)\n",
        "\n",
        "        return 0\n",
        "\n",
        "    def F_l(self, x, u, w):\n",
        "        \"\"\" force frome lift\n",
        "        \"\"\"\n",
        "        w_e =  w - self.pdot(x)\n",
        "        return 1/2 * self.rho * (w_e.T@w_e) * self.A * self.C_l\n",
        "\n",
        "    def F_d(self, x, u, w):\n",
        "        \"\"\" force from drag\n",
        "        \"\"\"\n",
        "        w_e =  w - self.pdot(x)\n",
        "        return 1/2 * self.rho * (w_e.T@w_e) * self.A * self.C_d\n",
        "\n",
        "    def f(self, x, u, w=np.array([1,0,0])):\n",
        "        \"\"\" dynamics of the kite\n",
        "        \"\"\"\n",
        "        theta, phi, thetadot, phidot = x\n",
        "    \n",
        "        thetadotdot = self.F_theta_aer(x, u, w)/(self.r*self.m) +\\\n",
        "            np.sin(theta)*self.g/self.r +\\\n",
        "            np.sin(theta)*np.cos(theta)*phidot**2\n",
        "\n",
        "        phidotdot = self.F_phi_aer(x, u, w)/(self.r*self.m) -\\\n",
        "            2/np.tan(theta)*phidot*thetadot\n",
        "\n",
        "        xdot = np.array([thetadot, phidot, thetadotdot, phidotdot])\n",
        "\n",
        "        return xdot\n"
      ],
      "execution_count": 0,
      "outputs": []
    },
    {
      "cell_type": "code",
      "metadata": {
        "id": "ZnL3we2wUtM1",
        "colab_type": "code",
        "colab": {}
      },
      "source": [
        "theta = 1e-5\n",
        "phi = np.pi/4\n",
        "thetadot = 0\n",
        "phidot = 0\n",
        "\n",
        "x_0 = np.array([theta, phi, thetadot, phidot])\n",
        "w = np.array([6, 0, 0])\n",
        "u = -np.pi/8"
      ],
      "execution_count": 0,
      "outputs": []
    },
    {
      "cell_type": "code",
      "metadata": {
        "id": "HRbZ_iZdbT3M",
        "colab_type": "code",
        "colab": {}
      },
      "source": [
        "kite = Kite()\n",
        "kite.f(x_0,u,w)"
      ],
      "execution_count": 0,
      "outputs": []
    },
    {
      "cell_type": "code",
      "metadata": {
        "id": "E7IQIQBvjrsV",
        "colab_type": "code",
        "colab": {}
      },
      "source": [
        ""
      ],
      "execution_count": 0,
      "outputs": []
    }
  ]
}